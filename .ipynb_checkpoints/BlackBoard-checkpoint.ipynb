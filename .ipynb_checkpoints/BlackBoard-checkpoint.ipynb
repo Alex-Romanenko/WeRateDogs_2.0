{
 "cells": [
  {
   "cell_type": "code",
   "execution_count": 1,
   "metadata": {},
   "outputs": [],
   "source": [
    "import pandas as pd\n",
    "import numpy as np\n",
    "import re\n",
    "import matplotlib.pyplot as plt\n"
   ]
  },
  {
   "cell_type": "code",
   "execution_count": 104,
   "metadata": {},
   "outputs": [],
   "source": [
    "\n",
    "a = pd.DataFrame(data = {'id': ['393848', '30495'],\n",
    "                         'text' : ['This is Gabanna. @RT Her human Jose rushed past firefighters into his burning home to rescue her. She suffered burns on her nose and paws, but will be just fine. The family lost everything else. You can help them rebuild below. 14/10 for both (via @KUSINews)',\n",
    "                                  'Meet Milo. He’s a smiley boy who tore a ligament in his back left zoomer. The surgery to fix it went well, but he’s still at the hospital being monitored. He’s going to work very hard to fetch at full speed again, and you can help him do it below. 13/10']\n",
    "                         })\n"
   ]
  },
  {
   "cell_type": "code",
   "execution_count": 105,
   "metadata": {},
   "outputs": [
    {
     "data": {
      "text/html": [
       "<div>\n",
       "<style scoped>\n",
       "    .dataframe tbody tr th:only-of-type {\n",
       "        vertical-align: middle;\n",
       "    }\n",
       "\n",
       "    .dataframe tbody tr th {\n",
       "        vertical-align: top;\n",
       "    }\n",
       "\n",
       "    .dataframe thead th {\n",
       "        text-align: right;\n",
       "    }\n",
       "</style>\n",
       "<table border=\"1\" class=\"dataframe\">\n",
       "  <thead>\n",
       "    <tr style=\"text-align: right;\">\n",
       "      <th></th>\n",
       "      <th>id</th>\n",
       "      <th>text</th>\n",
       "    </tr>\n",
       "  </thead>\n",
       "  <tbody>\n",
       "    <tr>\n",
       "      <th>0</th>\n",
       "      <td>393848</td>\n",
       "      <td>This is Gabanna. @RT Her human Jose rushed pas...</td>\n",
       "    </tr>\n",
       "    <tr>\n",
       "      <th>1</th>\n",
       "      <td>30495</td>\n",
       "      <td>Meet Milo. He’s a smiley boy who tore a ligame...</td>\n",
       "    </tr>\n",
       "  </tbody>\n",
       "</table>\n",
       "</div>"
      ],
      "text/plain": [
       "       id                                               text\n",
       "0  393848  This is Gabanna. @RT Her human Jose rushed pas...\n",
       "1   30495  Meet Milo. He’s a smiley boy who tore a ligame..."
      ]
     },
     "execution_count": 105,
     "metadata": {},
     "output_type": "execute_result"
    }
   ],
   "source": [
    "a"
   ]
  },
  {
   "cell_type": "code",
   "execution_count": 4,
   "metadata": {},
   "outputs": [],
   "source": [
    "#tokenize text - build a list out of terms in text\n",
    "def preprocess_list(raw_text):\n",
    "    \n",
    "    return \" \".join([i for i in re.sub(r'[^a-zA-Z\\s]', \"\", raw_text).split()])\n"
   ]
  },
  {
   "cell_type": "code",
   "execution_count": 106,
   "metadata": {},
   "outputs": [],
   "source": [
    "#create new column with lists of tokens of each text\n",
    "a['list'] = [preprocess_list(raw_text).split() for raw_text in a['text']]"
   ]
  },
  {
   "cell_type": "code",
   "execution_count": 107,
   "metadata": {},
   "outputs": [
    {
     "data": {
      "text/html": [
       "<div>\n",
       "<style scoped>\n",
       "    .dataframe tbody tr th:only-of-type {\n",
       "        vertical-align: middle;\n",
       "    }\n",
       "\n",
       "    .dataframe tbody tr th {\n",
       "        vertical-align: top;\n",
       "    }\n",
       "\n",
       "    .dataframe thead th {\n",
       "        text-align: right;\n",
       "    }\n",
       "</style>\n",
       "<table border=\"1\" class=\"dataframe\">\n",
       "  <thead>\n",
       "    <tr style=\"text-align: right;\">\n",
       "      <th></th>\n",
       "      <th>id</th>\n",
       "      <th>text</th>\n",
       "      <th>list</th>\n",
       "    </tr>\n",
       "  </thead>\n",
       "  <tbody>\n",
       "    <tr>\n",
       "      <th>0</th>\n",
       "      <td>393848</td>\n",
       "      <td>This is Gabanna. @RT Her human Jose rushed pas...</td>\n",
       "      <td>[This, is, Gabanna, RT, Her, human, Jose, rush...</td>\n",
       "    </tr>\n",
       "    <tr>\n",
       "      <th>1</th>\n",
       "      <td>30495</td>\n",
       "      <td>Meet Milo. He’s a smiley boy who tore a ligame...</td>\n",
       "      <td>[Meet, Milo, Hes, a, smiley, boy, who, tore, a...</td>\n",
       "    </tr>\n",
       "  </tbody>\n",
       "</table>\n",
       "</div>"
      ],
      "text/plain": [
       "       id                                               text  \\\n",
       "0  393848  This is Gabanna. @RT Her human Jose rushed pas...   \n",
       "1   30495  Meet Milo. He’s a smiley boy who tore a ligame...   \n",
       "\n",
       "                                                list  \n",
       "0  [This, is, Gabanna, RT, Her, human, Jose, rush...  \n",
       "1  [Meet, Milo, Hes, a, smiley, boy, who, tore, a...  "
      ]
     },
     "execution_count": 107,
     "metadata": {},
     "output_type": "execute_result"
    }
   ],
   "source": [
    "a"
   ]
  },
  {
   "cell_type": "code",
   "execution_count": 44,
   "metadata": {},
   "outputs": [],
   "source": [
    "#count frequency of each token in a list and create a dictionary \n",
    "#with a key as a token and value as its frequency\n",
    "def preprocess_dic(list_tokens):\n",
    "    return pd.DataFrame(list_tokens, columns=[\"term\"]).groupby('term').size().to_dict()"
   ]
  },
  {
   "cell_type": "code",
   "execution_count": 41,
   "metadata": {},
   "outputs": [],
   "source": [
    "#new column with dictionery of tokens\n",
    "a['dic'] = [preprocess_dic(list_tokens) for list_tokens in a.list]"
   ]
  },
  {
   "cell_type": "code",
   "execution_count": 42,
   "metadata": {},
   "outputs": [
    {
     "data": {
      "text/html": [
       "<div>\n",
       "<style scoped>\n",
       "    .dataframe tbody tr th:only-of-type {\n",
       "        vertical-align: middle;\n",
       "    }\n",
       "\n",
       "    .dataframe tbody tr th {\n",
       "        vertical-align: top;\n",
       "    }\n",
       "\n",
       "    .dataframe thead th {\n",
       "        text-align: right;\n",
       "    }\n",
       "</style>\n",
       "<table border=\"1\" class=\"dataframe\">\n",
       "  <thead>\n",
       "    <tr style=\"text-align: right;\">\n",
       "      <th></th>\n",
       "      <th>id</th>\n",
       "      <th>txt</th>\n",
       "      <th>list</th>\n",
       "      <th>dic</th>\n",
       "    </tr>\n",
       "  </thead>\n",
       "  <tbody>\n",
       "    <tr>\n",
       "      <th>0</th>\n",
       "      <td>393848</td>\n",
       "      <td>This is Gabanna. @RT Her human Jose rushed pas...</td>\n",
       "      <td>[This, is, Gabanna, RT, Her, human, Jose, rush...</td>\n",
       "      <td>{'Gabanna': 1, 'Her': 1, 'Jose': 1, 'KUSINews'...</td>\n",
       "    </tr>\n",
       "    <tr>\n",
       "      <th>1</th>\n",
       "      <td>30495</td>\n",
       "      <td>Meet Milo. He’s a smiley boy who tore a ligame...</td>\n",
       "      <td>[Meet, Milo, Hes, a, smiley, boy, who, tore, a...</td>\n",
       "      <td>{'Hes': 2, 'Meet': 1, 'Milo': 1, 'The': 1, 'a'...</td>\n",
       "    </tr>\n",
       "  </tbody>\n",
       "</table>\n",
       "</div>"
      ],
      "text/plain": [
       "       id                                                txt  \\\n",
       "0  393848  This is Gabanna. @RT Her human Jose rushed pas...   \n",
       "1   30495  Meet Milo. He’s a smiley boy who tore a ligame...   \n",
       "\n",
       "                                                list  \\\n",
       "0  [This, is, Gabanna, RT, Her, human, Jose, rush...   \n",
       "1  [Meet, Milo, Hes, a, smiley, boy, who, tore, a...   \n",
       "\n",
       "                                                 dic  \n",
       "0  {'Gabanna': 1, 'Her': 1, 'Jose': 1, 'KUSINews'...  \n",
       "1  {'Hes': 2, 'Meet': 1, 'Milo': 1, 'The': 1, 'a'...  "
      ]
     },
     "execution_count": 42,
     "metadata": {},
     "output_type": "execute_result"
    }
   ],
   "source": [
    "a"
   ]
  },
  {
   "cell_type": "code",
   "execution_count": 94,
   "metadata": {},
   "outputs": [],
   "source": [
    "#create df with id of text and an index equal to the number of terms in text\n",
    "id_df = pd.DataFrame(index = range(len(a.dic[1])), columns = ['id']).fillna(a.id[1]);\n",
    "#id_df"
   ]
  },
  {
   "cell_type": "code",
   "execution_count": 97,
   "metadata": {},
   "outputs": [],
   "source": [
    "#create df with terms and its frequency\n",
    "terms_df = pd.DataFrame.from_dict(a.dic[1], orient = 'index',columns = ['frequency']).reset_index().rename({'index':'term'}, axis = 1);\n",
    "#terms_df"
   ]
  },
  {
   "cell_type": "code",
   "execution_count": 103,
   "metadata": {},
   "outputs": [],
   "source": [
    "# concat two df\n",
    "zz = pd.concat([id_df, terms_df], axis =1, sort = False)\n",
    "#zz"
   ]
  },
  {
   "cell_type": "code",
   "execution_count": null,
   "metadata": {},
   "outputs": [],
   "source": []
  }
 ],
 "metadata": {
  "kernelspec": {
   "display_name": "Python 3",
   "language": "python",
   "name": "python3"
  },
  "language_info": {
   "codemirror_mode": {
    "name": "ipython",
    "version": 3
   },
   "file_extension": ".py",
   "mimetype": "text/x-python",
   "name": "python",
   "nbconvert_exporter": "python",
   "pygments_lexer": "ipython3",
   "version": "3.7.0"
  }
 },
 "nbformat": 4,
 "nbformat_minor": 2
}
