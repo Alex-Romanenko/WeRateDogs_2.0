{
 "cells": [
  {
   "cell_type": "markdown",
   "metadata": {},
   "source": [
    "# Wrangle Report\n",
    "\n",
    "In this project, we had many things to do which had an effect on our project.<br>\n",
    "\n",
    "**We Gathered Data from different sources:**\n",
    "\n",
    "- *.csv file, stored in the local machine. This file contains preliminarily gathered data of tweets specified by a tweeet_id parameter. The file should be assessed, cleaned and structured in a desired manner.\n",
    "- *tsv file stored in the remote server. This file contains the data about breed prediction based on pictures gathered from tweets in the channel. Each tweet specified by the tweet_id parameter. The file needs to be assessed, cleaned and structured in the desired way.\n",
    "- Twitter API - an archive of all tweets in the channel. We need to get additional information from the Twitter server. Since we have the tweet_id parameter in both files mentioned above, we going to extract particular data, associated with each tweet_id from the server.\n",
    "\n",
    "**We Assessed and Clean Data**\n",
    "\n",
    "We found and clean following issues:\n",
    "\n",
    "##### Quality\n",
    "**df data frame  - from *.csv file**\n",
    "- Columns 'in_reply_to_status_id' and 'in_reply_to_user_id' has very little amount of data and make no sense for further analysis. Drop'm\n",
    "- Data in every cell in column 'timestamp' has '+0000' at the end of the string. \n",
    "- Column 'timestamp' in 'object' data type. Convert to 'datetime'\n",
    "- Column 'source' has wrong data totally. Drop it\n",
    "- Some cells in the column 'text' contains '@' sign with some diffirent chanales names, that associated with retweets. Need to get closer look and figure it out.\n",
    "- Columns 'retweeted_status_id', 'retweeted_status_user_id', 'retweeted_status_timestamp' are lack of data. Drop'm\n",
    "- Some cells in column 'expanded_urls' has two or more urls and some of urls doesn't belong to WeRateDogs chanel.\n",
    "- Duplicated and missing data in column 'expanded_urls' \n",
    "- Column 'rating_numerator' has several outliers, so need to get closer what are they exactly.\n",
    "- Column 'rating_denominator' - need to figure out the outliers.\n",
    "- Column 'name' has some wrong data such as 'None' and other words that not suppose to be the names of dogs. Need to figure out how to handle them.\n",
    "- Columns 'doggo', 'floffer', 'pupper', 'puppo' need to be merged in one column since they holds different values of one variable.\n",
    "\n",
    "\n",
    "**predict dat aframe - from *.tsv file**\n",
    "- Some names are lowercased. Capitalize'm\n",
    "- Some rows contains predictions that not mathes with dog breed names. Drop'm\n",
    "\n",
    "\n",
    "**counts_df data frame - from Twitter API**\n",
    "- Columns 'tweet_id', 'retweet_count', 'favor_count' dtypes is 'object'. Need 'int'\n",
    "\n",
    " \n",
    "<br>\n",
    "\n",
    "### Tidiness\n",
    "\n",
    "**df**\n",
    "- Column 'text' has two types of data, associated with different variables: 1) The text of the tweet, 2) The link to the tweet. The link to the tweet is the same link that stored in the column named ' expanded_urls'. So, the data in column 'text' need to be separated and we need to keep just part 1 - actually the text of the tweet.\n",
    "\n",
    "**predict**\n",
    "- All predictions are different level of confident of prediction the value of one variable. We need to form one column with predicted dog  breed name associated with particular tweet_id in descendent priority order: p1>p2>p3\n",
    "\n",
    "\n",
    "\n",
    "**At the final stage, we have the final data frame** contain all data we got in one place. We saved this data frame in a file, 'twitter_archive_master.csv', and used its data in analysis and visualization, placed and described in a file 'act_report.pdf'."
   ]
  }
 ],
 "metadata": {
  "kernelspec": {
   "display_name": "Python 3",
   "language": "python",
   "name": "python3"
  },
  "language_info": {
   "codemirror_mode": {
    "name": "ipython",
    "version": 3
   },
   "file_extension": ".py",
   "mimetype": "text/x-python",
   "name": "python",
   "nbconvert_exporter": "python",
   "pygments_lexer": "ipython3",
   "version": "3.7.0"
  }
 },
 "nbformat": 4,
 "nbformat_minor": 2
}
