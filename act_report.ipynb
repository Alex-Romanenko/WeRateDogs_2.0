{
 "cells": [
  {
   "cell_type": "markdown",
   "metadata": {},
   "source": [
    "#  Analysis"
   ]
  },
  {
   "cell_type": "markdown",
   "metadata": {},
   "source": [
    "We want to get answers to the following questions:\n",
    "\n",
    "- What are the top three breeds holding most favorites?\n",
    "- What are the top three breeds holding most retweets?\n",
    "- Are the breeds mentioned above are the same that holding most audience engagement (the sum of retweets and favorites)\n",
    "- How often is the top breed holding most engagement (in the following mention just 'top breed') mentioned in tweets?\n",
    "- What is the set of words for tweets with the top breed?\n",
    "- How often the words from the top-breed-set appeared in tweets?\n",
    "- Are there some words, that more specific for the top breed?\n",
    "- We have a huuuge amount of other questions and gonna find their answers in other projects))"
   ]
  },
  {
   "cell_type": "markdown",
   "metadata": {},
   "source": [
    "### <br>\n",
    "### What are the top three breeds holding most favorite counts? "
   ]
  },
  {
   "cell_type": "markdown",
   "metadata": {},
   "source": [
    "We found the top three breeds holding most favorites:\n",
    "> - First place is: Labrador_retriever  - 163200 favorites \n",
    "> - Second place is: Lakeland_terrier  - 139482 favorites\n",
    "> - Third place is: Chihuahua  -  126158 favorites\n",
    "\n",
    "Here is a graph:\n",
    "<img src = 'https://raw.githubusercontent.com/Alex-Romanenko/WeRateDogs_2.0/master/breed_most_favorites.png'>\n",
    "\n",
    "An interesting detail is that the author mentioned the stage DOGGO in the tweet that accumulated most favorites.\n",
    "The second place has the stage PUPPO.\n",
    "The tweet that took third place contains no data about the stage, but the dog is good anyway."
   ]
  },
  {
   "cell_type": "markdown",
   "metadata": {},
   "source": [
    "# <br>\n",
    "### What are the top three breeds holding most retweet counts?"
   ]
  },
  {
   "cell_type": "markdown",
   "metadata": {},
   "source": [
    "\n",
    "We found the top three breeds holding most retweets:\n",
    "> - First place is: Labrador_retriever  - 82984 retweets \n",
    "> - Second place is: Eskimo_dog  - 61455 retweets\n",
    "> - Third place is: Chihuahua  -  60518 retweets\n",
    "\n",
    "Here is a graph:\n",
    "<img src = 'https://raw.githubusercontent.com/Alex-Romanenko/WeRateDogs_2.0/master/breed_most_retweets.png'>"
   ]
  },
  {
   "cell_type": "markdown",
   "metadata": {},
   "source": [
    "<br><br>\n",
    "\n",
    "### Are the breeds mentioned above are the same that holding most audience engagement (the sum of retweets and favorites)"
   ]
  },
  {
   "cell_type": "markdown",
   "metadata": {},
   "source": [
    "<br><br>\n",
    "\n",
    "#### What the breeds holding most audience engagement"
   ]
  },
  {
   "cell_type": "markdown",
   "metadata": {},
   "source": [
    "We found the top three breeds holding most engagment:\n",
    "> - First place is: Labrador_retriever  - 246184 engages \n",
    "> - Second place is: Lakeland_terrier  - 186790 engages\n",
    "> - Third place is: Chihuahua  -  186676 engages\n",
    "\n",
    "Here is a graph:\n",
    "<img src = 'https://raw.githubusercontent.com/Alex-Romanenko/WeRateDogs_2.0/master/breed_most_emgage.png'>"
   ]
  },
  {
   "cell_type": "markdown",
   "metadata": {},
   "source": [
    "<br><br>\n",
    "\n",
    "#### Are there same breeds holding most  engagement and the breeds holding most favorites and retweets?"
   ]
  },
  {
   "cell_type": "markdown",
   "metadata": {},
   "source": [
    "We found the top breeds are not the same, though the first place is in the same hands. The winner is Labrador Retriever.\n",
    "\n",
    "It may be a common situation when the same tweet holds the biggest numbers of retweets, favorites and total engagements. However, this is not a rule and we have to check. The check is done and we found a winner. Let's look at him closer.\n",
    "\n",
    "Here is a graph:\n",
    "<img src = 'https://raw.githubusercontent.com/Alex-Romanenko/WeRateDogs_2.0/master/tops_plt.png'>"
   ]
  },
  {
   "cell_type": "markdown",
   "metadata": {},
   "source": [
    "<br><br>\n",
    "\n",
    "### How often is the top breed holding most engagement (in the following mention just 'top breed') mentioned in tweets?"
   ]
  },
  {
   "cell_type": "markdown",
   "metadata": {},
   "source": [
    "<br>\n",
    "\n",
    "#### How often is the top breed mentioned in tweets?"
   ]
  },
  {
   "cell_type": "markdown",
   "metadata": {},
   "source": [
    "So our winner is Labrador Retriever.<br>\n",
    "We build a list of following synonims:\n",
    "  - 'Labrador_retriever',\n",
    "  - 'labrador retriever',\n",
    "  - 'labrador',\n",
    "  - 'lab',\n",
    "  - 'labs',\n",
    "  - 'labra'\n",
    "  \n",
    "We checked how many times each of this word appears in our data set with tweets. \n",
    "\n",
    "**Unbelievable!**\n",
    "\n",
    "We have ZERO mentions of Labrador breed in 2298 tweets. <br>\n",
    "Definitely, this Twitter-channel not about labradors. <br>\n",
    "Our winner got a win just by funny video, not by breed."
   ]
  },
  {
   "cell_type": "markdown",
   "metadata": {},
   "source": [
    "<br><br>\n",
    "\n",
    "#### What is the set of words for tweets with the top breed?"
   ]
  },
  {
   "cell_type": "markdown",
   "metadata": {},
   "source": [
    "Now we have no sense to keep track of our questions, but one case... We tried to see what are the tweets representing pictures where prediction algorithm found Labrador_retriver breed but came with the following conclusion:\n",
    "\n",
    "\n",
    "The data set is too small and not 'labradory' and 'breedy' enough to make any decision about specific words for the top breed, for any breed.<br>\n",
    "We are done with the analysis of our winner, despite the fact that our Labrador is a good dog."
   ]
  },
  {
   "cell_type": "markdown",
   "metadata": {},
   "source": [
    "<br><br>Unfortunately, the author does not provide the name of the dog. But anyway, we believe this dog is good!\n",
    "\n",
    "Here is a link to most popular tweet:<br>\n",
    "https://twitter.com/dog_rates/status/744234799360020481/video/1\n",
    "<br><br>\n",
    "Here is the link for second place in retweeets:<br>\n",
    "https://twitter.com/dog_rates/status/739238157791694849/video/1\n",
    "<br><br>\n",
    "Here the link to the second place in favorites:<br>\n",
    "https://twitter.com/dog_rates/status/822872901745569793/photo/1\n",
    "<br><br>\n",
    "Here is the link to the tweet that holds third place withtin top of retweets and favorites:<br>\n",
    "https://twitter.com/dog_rates/status/807106840509214720/video/1\n",
    "<br><br>\n",
    "\n",
    "After getting a look at the tweets, we can decide that we fail to make a statement about the popularity of particular breeds among visitors of WeRateDogs. We can just state that funny videos of dogs have bigger popularity than photos. In another hand, this is good proof that dogs are very good, since their behavior may attract more attention from people."
   ]
  },
  {
   "cell_type": "code",
   "execution_count": null,
   "metadata": {},
   "outputs": [],
   "source": []
  }
 ],
 "metadata": {
  "kernelspec": {
   "display_name": "Python 3",
   "language": "python",
   "name": "python3"
  },
  "language_info": {
   "codemirror_mode": {
    "name": "ipython",
    "version": 3
   },
   "file_extension": ".py",
   "mimetype": "text/x-python",
   "name": "python",
   "nbconvert_exporter": "python",
   "pygments_lexer": "ipython3",
   "version": "3.7.0"
  }
 },
 "nbformat": 4,
 "nbformat_minor": 2
}
